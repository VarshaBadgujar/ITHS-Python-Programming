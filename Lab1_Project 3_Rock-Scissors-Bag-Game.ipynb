{
 "cells": [
  {
   "cell_type": "markdown",
   "id": "6a2d0c1b",
   "metadata": {},
   "source": [
    "## Project 3: Rock-Scissors-Bag Game!!"
   ]
  },
  {
   "cell_type": "code",
   "execution_count": 1,
   "id": "9ba067b8",
   "metadata": {},
   "outputs": [
    {
     "name": "stdout",
     "output_type": "stream",
     "text": [
      "Welcome to Rock-Scissors-Bag Game!\n",
      "Choose 1 for Rock, 2 for Scissors, or 3 for Bag \n",
      "\n",
      "Enter your choice: 1\n",
      "Player choice: 1\n",
      "Computer choice: 3\n",
      "Computer wins!\n",
      "\n",
      "!!Game Over!!\n",
      "\n"
     ]
    }
   ],
   "source": [
    "# Import required libraries\n",
    "import random\n",
    "\n",
    "\n",
    "# computer choice is randomly generated\n",
    "def get_computer_choice():\n",
    "    return random.randint(1, 3)\n",
    "\n",
    "# accept users's choice\n",
    "def get_player_choice():\n",
    "    while True:\n",
    "        try:\n",
    "            player_choice = int(input(\"Enter your choice: \"))\n",
    "            if player_choice in [1, 2, 3]:\n",
    "                return player_choice\n",
    "            else:\n",
    "                print(\"Invalid choice. Please choose 1 for Rock, 2 for Scissors, or 3 for Bag.\")\n",
    "        except ValueError:\n",
    "            print(\"Invalid input. Please enter a number (1, 2, or 3).\")\n",
    "\n",
    "# check who is winner as per given rules\n",
    "def check_winner(player_choice, computer_choice):\n",
    "    if player_choice == computer_choice:\n",
    "        return \"It's a tie!\\n\"\n",
    "    elif (player_choice == 1 and computer_choice == 2) or (player_choice == 2 and computer_choice == 3) or (player_choice == 3 and computer_choice == 1):\n",
    "        return f\"You win!\\n\"\n",
    "    else:\n",
    "        return f\"Computer wins!\\n\"\n",
    "\n",
    "# main function\n",
    "def main():\n",
    "    print(\"Welcome to Rock-Scissors-Bag Game!\")\n",
    "    print(\"Choose 1 for Rock, 2 for Scissors, or 3 for Bag \\n\")\n",
    "    while True:\n",
    "        computer_choice = get_computer_choice()\n",
    "        player_choice = get_player_choice()\n",
    "\n",
    "        print(f\"Player choice: {player_choice}\")\n",
    "        print(f\"Computer choice: {computer_choice}\")\n",
    "\n",
    "        result = check_winner(player_choice, computer_choice)\n",
    "        print(result)\n",
    "\n",
    "        if result.startswith(\"You win\") or result.startswith(\"Computer wins\"):\n",
    "            break\n",
    "\n",
    "    print(\"!!Game Over!!\\n\")\n",
    "\n",
    "# entry point of execution\n",
    "if __name__ == \"__main__\":\n",
    "    main()\n"
   ]
  },
  {
   "cell_type": "code",
   "execution_count": null,
   "id": "3f944244",
   "metadata": {},
   "outputs": [],
   "source": []
  }
 ],
 "metadata": {
  "kernelspec": {
   "display_name": "Python 3 (ipykernel)",
   "language": "python",
   "name": "python3"
  },
  "language_info": {
   "codemirror_mode": {
    "name": "ipython",
    "version": 3
   },
   "file_extension": ".py",
   "mimetype": "text/x-python",
   "name": "python",
   "nbconvert_exporter": "python",
   "pygments_lexer": "ipython3",
   "version": "3.9.13"
  }
 },
 "nbformat": 4,
 "nbformat_minor": 5
}
